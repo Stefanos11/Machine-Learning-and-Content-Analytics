{
 "cells": [
  {
   "cell_type": "code",
   "execution_count": 1,
   "metadata": {},
   "outputs": [],
   "source": [
    "# Importing the libraries\n",
    "import numpy as np\n",
    "import pandas as pd\n",
    "import os\n",
    "from tqdm import tqdm\n",
    "import shutil\n",
    "from tensorflow.python.keras.preprocessing.image import ImageDataGenerator"
   ]
  },
  {
   "cell_type": "code",
   "execution_count": 2,
   "metadata": {},
   "outputs": [],
   "source": [
    "#Initializing the paths of the dataset\n",
    "colon_aca_dir = os.path.join(os.getcwd(), 'lung_colon_image_set/colon_image_sets/colon_aca')\n",
    "colon_n_dir = os.path.join(os.getcwd(), 'lung_colon_image_set/colon_image_sets/colon_n')\n",
    "lung_aca_dir = os.path.join(os.getcwd(), 'lung_colon_image_set/lung_image_sets/lung_aca')\n",
    "lung_n_dir = os.path.join(os.getcwd(), 'lung_colon_image_set/lung_image_sets/lung_n')\n",
    "lung_scc_dir = os.path.join(os.getcwd(), 'lung_colon_image_set/lung_image_sets/lung_scc')\n",
    "\n",
    "#Keeping the paths for the folders that are going to be created\n",
    "df1_dir = os.path.join(os.getcwd(), 'dataset')\n",
    "train_dir = os.path.join(df1_dir, 'train')\n",
    "val_dir = os.path.join(df1_dir, 'valid')\n",
    "test_dir = os.path.join(df1_dir, 'test')\n",
    "\n",
    "#train\n",
    "train_colon_aca_dir = os.path.join(train_dir, 'colon_aca')\n",
    "train_colon_n_dir = os.path.join(train_dir, 'colon_n')\n",
    "train_lung_aca_dir = os.path.join(train_dir, 'lung_aca')\n",
    "train_lung_n_dir = os.path.join(train_dir, 'lung_n')\n",
    "train_lung_scc_dir = os.path.join(train_dir, 'lung_scc')\n",
    "\n",
    "#validation\n",
    "val_colon_aca_dir = os.path.join(val_dir, 'colon_aca')\n",
    "val_colon_n_dir = os.path.join(val_dir, 'colon_n')\n",
    "val_lung_aca_dir = os.path.join(val_dir, 'lung_aca')\n",
    "val_lung_n_dir = os.path.join(val_dir, 'lung_n')\n",
    "val_lung_scc_dir = os.path.join(val_dir, 'lung_scc')\n",
    "\n",
    "#test\n",
    "test_colon_aca_dir = os.path.join(test_dir, 'colon_aca')\n",
    "test_colon_n_dir = os.path.join(test_dir, 'colon_n')\n",
    "test_lung_aca_dir = os.path.join(test_dir, 'lung_aca')\n",
    "test_lung_n_dir = os.path.join(test_dir, 'lung_n')\n",
    "test_lung_scc_dir = os.path.join(test_dir, 'lung_scc')"
   ]
  },
  {
   "cell_type": "code",
   "execution_count": 3,
   "metadata": {},
   "outputs": [],
   "source": [
    "#If the paths does not exist we create them\n",
    "if not os.path.exists(df1_dir):\n",
    "    os.mkdir('dataset')\n",
    "if not os.path.exists(train_dir):\n",
    "    os.mkdir('dataset/train')\n",
    "if not os.path.exists(train_colon_aca_dir):\n",
    "    os.mkdir('dataset/train/colon_aca')\n",
    "if not os.path.exists(train_colon_n_dir):\n",
    "    os.mkdir('dataset/train/colon_n')\n",
    "if not os.path.exists(train_lung_aca_dir):\n",
    "    os.mkdir('dataset/train/lung_aca')\n",
    "if not os.path.exists(train_lung_n_dir):\n",
    "    os.mkdir('dataset/train/lung_n')\n",
    "if not os.path.exists(train_lung_scc_dir):\n",
    "    os.mkdir('dataset/train/lung_scc')\n",
    "if not os.path.exists(val_dir):\n",
    "    os.mkdir('dataset/valid')\n",
    "if not os.path.exists(val_colon_aca_dir):\n",
    "    os.mkdir('dataset/valid/colon_aca')\n",
    "if not os.path.exists(val_colon_n_dir):\n",
    "    os.mkdir('dataset/valid/colon_n')\n",
    "if not os.path.exists(val_lung_aca_dir):\n",
    "    os.mkdir('dataset/valid/lung_aca')\n",
    "if not os.path.exists(val_lung_n_dir):\n",
    "    os.mkdir('dataset/valid/lung_n')\n",
    "if not os.path.exists(val_lung_scc_dir):\n",
    "    os.mkdir('dataset/valid/lung_scc')\n",
    "if not os.path.exists(test_dir):\n",
    "    os.mkdir('dataset/test')\n",
    "if not os.path.exists(test_colon_aca_dir):\n",
    "    os.mkdir('dataset/test/colon_aca')\n",
    "if not os.path.exists(test_colon_n_dir):\n",
    "    os.mkdir('dataset/test/colon_n')\n",
    "if not os.path.exists(test_lung_aca_dir):\n",
    "    os.mkdir('dataset/test/lung_aca')\n",
    "if not os.path.exists(test_lung_n_dir):\n",
    "    os.mkdir('dataset/test/lung_n')\n",
    "if not os.path.exists(test_lung_scc_dir):\n",
    "    os.mkdir('dataset/test/lung_scc')"
   ]
  },
  {
   "cell_type": "code",
   "execution_count": 4,
   "metadata": {},
   "outputs": [
    {
     "name": "stderr",
     "output_type": "stream",
     "text": [
      "0it [00:00, ?it/s]\n"
     ]
    }
   ],
   "source": [
    "#Repositiοning the images to train,validation and test folder to prepare them for the models\n",
    "#First class\n",
    "np.random.seed(123)\n",
    "for img_file in tqdm(os.listdir(colon_aca_dir)):\n",
    "                    p = np.random.uniform()\n",
    "                    src_file = os.path.join(colon_aca_dir, img_file)\n",
    "            \n",
    "                    if p < 0.7:\n",
    "                        dest_file = os.path.join(train_colon_aca_dir, img_file)\n",
    "                        shutil.move(src_file, dest_file)\n",
    "                       \n",
    "                    elif p < 0.9:\n",
    "                        dest_file = os.path.join(val_colon_aca_dir, img_file)\n",
    "                        shutil.move(src_file, dest_file)\n",
    "                        \n",
    "                    elif p < 1:\n",
    "                        dest_file = os.path.join(test_colon_aca_dir, img_file)\n",
    "                        shutil.move(src_file, dest_file)\n",
    "                        "
   ]
  },
  {
   "cell_type": "code",
   "execution_count": 5,
   "metadata": {},
   "outputs": [
    {
     "name": "stdout",
     "output_type": "stream",
     "text": [
      "train 3502\n"
     ]
    }
   ],
   "source": [
    "print('train', len(os.listdir(train_colon_aca_dir)))"
   ]
  },
  {
   "cell_type": "code",
   "execution_count": 6,
   "metadata": {},
   "outputs": [
    {
     "name": "stdout",
     "output_type": "stream",
     "text": [
      "val 1005\n"
     ]
    }
   ],
   "source": [
    "print('val', len(os.listdir(val_colon_aca_dir)))"
   ]
  },
  {
   "cell_type": "code",
   "execution_count": 7,
   "metadata": {},
   "outputs": [
    {
     "name": "stdout",
     "output_type": "stream",
     "text": [
      "test 493\n"
     ]
    }
   ],
   "source": [
    "print('test', len(os.listdir(test_colon_aca_dir)))"
   ]
  },
  {
   "cell_type": "code",
   "execution_count": 8,
   "metadata": {},
   "outputs": [
    {
     "name": "stderr",
     "output_type": "stream",
     "text": [
      "0it [00:00, ?it/s]\n"
     ]
    }
   ],
   "source": [
    "#Second class\n",
    "np.random.seed(123)\n",
    "for img_file in tqdm(os.listdir(colon_n_dir)):\n",
    "                    p = np.random.uniform()\n",
    "                    src_file = os.path.join(colon_n_dir, img_file)\n",
    "            \n",
    "                    if p < 0.7:\n",
    "                        dest_file = os.path.join(train_colon_n_dir, img_file)\n",
    "                        shutil.move(src_file, dest_file)\n",
    "                       \n",
    "                    elif p < 0.9:\n",
    "                        dest_file = os.path.join(val_colon_n_dir, img_file)\n",
    "                        shutil.move(src_file, dest_file)\n",
    "                        \n",
    "                    elif p < 1:\n",
    "                        dest_file = os.path.join(test_colon_n_dir, img_file)\n",
    "                        shutil.move(src_file, dest_file)"
   ]
  },
  {
   "cell_type": "code",
   "execution_count": 9,
   "metadata": {},
   "outputs": [
    {
     "name": "stdout",
     "output_type": "stream",
     "text": [
      "train 3502\n"
     ]
    }
   ],
   "source": [
    "print('train', len(os.listdir(train_colon_n_dir)))"
   ]
  },
  {
   "cell_type": "code",
   "execution_count": 10,
   "metadata": {},
   "outputs": [
    {
     "name": "stdout",
     "output_type": "stream",
     "text": [
      "val 1005\n"
     ]
    }
   ],
   "source": [
    "print('val', len(os.listdir(val_colon_n_dir)))"
   ]
  },
  {
   "cell_type": "code",
   "execution_count": 11,
   "metadata": {},
   "outputs": [
    {
     "name": "stdout",
     "output_type": "stream",
     "text": [
      "test 493\n"
     ]
    }
   ],
   "source": [
    "print('test', len(os.listdir(test_colon_n_dir)))"
   ]
  },
  {
   "cell_type": "code",
   "execution_count": 12,
   "metadata": {},
   "outputs": [
    {
     "name": "stderr",
     "output_type": "stream",
     "text": [
      "0it [00:00, ?it/s]\n"
     ]
    }
   ],
   "source": [
    "#Third class\n",
    "np.random.seed(123)\n",
    "for img_file in tqdm(os.listdir(lung_aca_dir)):\n",
    "                    p = np.random.uniform()\n",
    "                    src_file = os.path.join(lung_aca_dir, img_file)\n",
    "            \n",
    "                    if p < 0.7:\n",
    "                        dest_file = os.path.join(train_lung_aca_dir, img_file)\n",
    "                        shutil.move(src_file, dest_file)\n",
    "                       \n",
    "                    elif p < 0.9:\n",
    "                        dest_file = os.path.join(val_lung_aca_dir, img_file)\n",
    "                        shutil.move(src_file, dest_file)\n",
    "                        \n",
    "                    elif p < 1:\n",
    "                        dest_file = os.path.join(test_lung_aca_dir, img_file)\n",
    "                        shutil.move(src_file, dest_file)"
   ]
  },
  {
   "cell_type": "code",
   "execution_count": 13,
   "metadata": {},
   "outputs": [
    {
     "name": "stdout",
     "output_type": "stream",
     "text": [
      "train 3502\n"
     ]
    }
   ],
   "source": [
    "print('train', len(os.listdir(train_lung_aca_dir)))"
   ]
  },
  {
   "cell_type": "code",
   "execution_count": 14,
   "metadata": {},
   "outputs": [
    {
     "name": "stdout",
     "output_type": "stream",
     "text": [
      "val 1005\n"
     ]
    }
   ],
   "source": [
    "print('val', len(os.listdir(val_lung_aca_dir)))"
   ]
  },
  {
   "cell_type": "code",
   "execution_count": 15,
   "metadata": {},
   "outputs": [
    {
     "name": "stdout",
     "output_type": "stream",
     "text": [
      "test 493\n"
     ]
    }
   ],
   "source": [
    "print('test', len(os.listdir(test_lung_aca_dir)))"
   ]
  },
  {
   "cell_type": "code",
   "execution_count": 16,
   "metadata": {},
   "outputs": [
    {
     "name": "stderr",
     "output_type": "stream",
     "text": [
      "0it [00:00, ?it/s]\n"
     ]
    }
   ],
   "source": [
    "#Fourth class\n",
    "np.random.seed(123)\n",
    "for img_file in tqdm(os.listdir(lung_n_dir)):\n",
    "                    p = np.random.uniform()\n",
    "                    src_file = os.path.join(lung_n_dir, img_file)\n",
    "            \n",
    "                    if p < 0.7:\n",
    "                        dest_file = os.path.join(train_lung_n_dir, img_file)\n",
    "                        shutil.move(src_file, dest_file)\n",
    "                       \n",
    "                    elif p < 0.9:\n",
    "                        dest_file = os.path.join(val_lung_n_dir, img_file)\n",
    "                        shutil.move(src_file, dest_file)\n",
    "                        \n",
    "                    elif p < 1:\n",
    "                        dest_file = os.path.join(test_lung_n_dir, img_file)\n",
    "                        shutil.move(src_file, dest_file)"
   ]
  },
  {
   "cell_type": "code",
   "execution_count": 17,
   "metadata": {},
   "outputs": [
    {
     "name": "stdout",
     "output_type": "stream",
     "text": [
      "train 3502\n"
     ]
    }
   ],
   "source": [
    "print('train', len(os.listdir(train_lung_n_dir)))"
   ]
  },
  {
   "cell_type": "code",
   "execution_count": 18,
   "metadata": {},
   "outputs": [
    {
     "name": "stdout",
     "output_type": "stream",
     "text": [
      "val 1005\n"
     ]
    }
   ],
   "source": [
    "print('val', len(os.listdir(val_lung_n_dir)))"
   ]
  },
  {
   "cell_type": "code",
   "execution_count": 19,
   "metadata": {},
   "outputs": [
    {
     "name": "stdout",
     "output_type": "stream",
     "text": [
      "test 493\n"
     ]
    }
   ],
   "source": [
    "print('test', len(os.listdir(test_lung_n_dir)))"
   ]
  },
  {
   "cell_type": "code",
   "execution_count": 20,
   "metadata": {},
   "outputs": [
    {
     "name": "stderr",
     "output_type": "stream",
     "text": [
      "0it [00:00, ?it/s]\n"
     ]
    }
   ],
   "source": [
    "#Fifth class\n",
    "np.random.seed(123)\n",
    "for img_file in tqdm(os.listdir(lung_scc_dir)):\n",
    "                    p = np.random.uniform()\n",
    "                    src_file = os.path.join(lung_scc_dir, img_file)\n",
    "            \n",
    "                    if p < 0.7:\n",
    "                        dest_file = os.path.join(train_lung_scc_dir, img_file)\n",
    "                        shutil.move(src_file, dest_file)\n",
    "                       \n",
    "                    elif p < 0.9:\n",
    "                        dest_file = os.path.join(val_lung_scc_dir, img_file)\n",
    "                        shutil.move(src_file, dest_file)\n",
    "                        \n",
    "                    elif p < 1:\n",
    "                        dest_file = os.path.join(test_lung_scc_dir, img_file)\n",
    "                        shutil.move(src_file, dest_file)"
   ]
  },
  {
   "cell_type": "code",
   "execution_count": 21,
   "metadata": {},
   "outputs": [
    {
     "name": "stdout",
     "output_type": "stream",
     "text": [
      "train 3502\n"
     ]
    }
   ],
   "source": [
    "print('train', len(os.listdir(train_lung_scc_dir)))"
   ]
  },
  {
   "cell_type": "code",
   "execution_count": 22,
   "metadata": {},
   "outputs": [
    {
     "name": "stdout",
     "output_type": "stream",
     "text": [
      "val 1005\n"
     ]
    }
   ],
   "source": [
    "print('val', len(os.listdir(val_lung_scc_dir)))"
   ]
  },
  {
   "cell_type": "code",
   "execution_count": 23,
   "metadata": {
    "scrolled": true
   },
   "outputs": [
    {
     "name": "stdout",
     "output_type": "stream",
     "text": [
      "test 493\n"
     ]
    }
   ],
   "source": [
    "print('test', len(os.listdir(test_lung_scc_dir)))"
   ]
  },
  {
   "cell_type": "code",
   "execution_count": 24,
   "metadata": {},
   "outputs": [],
   "source": [
    "# To observe our batches and directories we create data-generators\n",
    "# Some of them will be saved in order to be used for the models in diffeferent notebooks\n",
    "# Rescaling every image to an interval of 0 and 1\n",
    "train_datagen = ImageDataGenerator(rescale=1./255)"
   ]
  },
  {
   "cell_type": "code",
   "execution_count": 25,
   "metadata": {},
   "outputs": [],
   "source": [
    "val_datagen = ImageDataGenerator(rescale=1./255)"
   ]
  },
  {
   "cell_type": "code",
   "execution_count": 26,
   "metadata": {},
   "outputs": [],
   "source": [
    "test_datagen = ImageDataGenerator(rescale=1./255)"
   ]
  },
  {
   "cell_type": "code",
   "execution_count": 27,
   "metadata": {},
   "outputs": [
    {
     "name": "stdout",
     "output_type": "stream",
     "text": [
      "Found 17510 images belonging to 5 classes.\n"
     ]
    }
   ],
   "source": [
    "# Changing the size of every image to (224,224)\n",
    "# This generator is in its simpliest form, without augmentation\n",
    "train_generator = train_datagen.flow_from_directory(\n",
    "    train_dir,\n",
    "    batch_size = 20,\n",
    "    target_size = (224, 224),\n",
    "    class_mode = 'categorical')"
   ]
  },
  {
   "cell_type": "code",
   "execution_count": 28,
   "metadata": {},
   "outputs": [
    {
     "name": "stdout",
     "output_type": "stream",
     "text": [
      "Found 5025 images belonging to 5 classes.\n"
     ]
    }
   ],
   "source": [
    "val_generator = val_datagen.flow_from_directory(\n",
    "    val_dir,\n",
    "    batch_size = 20,\n",
    "    target_size = (224, 224),\n",
    "    class_mode = 'categorical')"
   ]
  },
  {
   "cell_type": "code",
   "execution_count": 29,
   "metadata": {},
   "outputs": [
    {
     "name": "stdout",
     "output_type": "stream",
     "text": [
      "Found 2465 images belonging to 5 classes.\n"
     ]
    }
   ],
   "source": [
    "test_generator = test_datagen.flow_from_directory(\n",
    "    test_dir,\n",
    "    batch_size = 2,\n",
    "    target_size = (224, 224),\n",
    "    class_mode = None)"
   ]
  },
  {
   "cell_type": "code",
   "execution_count": 30,
   "metadata": {},
   "outputs": [
    {
     "name": "stdout",
     "output_type": "stream",
     "text": [
      "data batch shape: (20, 224, 224, 3)\n",
      "labels batch shape: (20, 5)\n"
     ]
    }
   ],
   "source": [
    "for data_batch, labels_batch in train_generator:\n",
    "    print('data batch shape:', data_batch.shape)\n",
    "    print('labels batch shape:', labels_batch.shape)\n",
    "    break"
   ]
  },
  {
   "cell_type": "code",
   "execution_count": 31,
   "metadata": {},
   "outputs": [
    {
     "name": "stdout",
     "output_type": "stream",
     "text": [
      "data batch shape: (20, 224, 224, 3)\n",
      "labels batch shape: (20, 5)\n"
     ]
    }
   ],
   "source": [
    "for data_batch, labels_batch in val_generator:\n",
    "    print('data batch shape:', data_batch.shape)\n",
    "    print('labels batch shape:', labels_batch.shape)\n",
    "    break"
   ]
  },
  {
   "cell_type": "code",
   "execution_count": 32,
   "metadata": {
    "scrolled": true
   },
   "outputs": [
    {
     "name": "stdout",
     "output_type": "stream",
     "text": [
      "data batch shape: (224, 224, 3)\n"
     ]
    }
   ],
   "source": [
    "for data_batch, labels_batch in test_generator:\n",
    "    print('data batch shape:', data_batch.shape)\n",
    "    break"
   ]
  },
  {
   "cell_type": "code",
   "execution_count": 33,
   "metadata": {},
   "outputs": [
    {
     "name": "stdout",
     "output_type": "stream",
     "text": [
      "Stored 'train_dir' (str)\n",
      "Stored 'val_dir' (str)\n",
      "Stored 'test_dir' (str)\n",
      "Stored 'val_datagen' (ImageDataGenerator)\n",
      "Stored 'test_datagen' (ImageDataGenerator)\n"
     ]
    }
   ],
   "source": [
    "# Storing the variables for cross-notebooks\n",
    "# Due an error that occured we couldn't save train_datagen\n",
    "%store train_dir\n",
    "%store val_dir\n",
    "%store test_dir\n",
    "%store val_datagen\n",
    "%store test_datagen"
   ]
  }
 ],
 "metadata": {
  "kernelspec": {
   "display_name": "Python 3",
   "language": "python",
   "name": "python3"
  },
  "language_info": {
   "codemirror_mode": {
    "name": "ipython",
    "version": 3
   },
   "file_extension": ".py",
   "mimetype": "text/x-python",
   "name": "python",
   "nbconvert_exporter": "python",
   "pygments_lexer": "ipython3",
   "version": "3.7.3"
  }
 },
 "nbformat": 4,
 "nbformat_minor": 2
}
